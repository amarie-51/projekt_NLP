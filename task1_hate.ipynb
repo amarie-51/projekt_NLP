{
  "nbformat": 4,
  "nbformat_minor": 0,
  "metadata": {
    "colab": {
      "name": "Untitled9.ipynb",
      "provenance": [],
      "authorship_tag": "ABX9TyMQYhZMO2nZ2pF8eOXGcpTj",
      "include_colab_link": true
    },
    "kernelspec": {
      "name": "python3",
      "display_name": "Python 3"
    },
    "language_info": {
      "name": "python"
    }
  },
  "cells": [
    {
      "cell_type": "markdown",
      "metadata": {
        "id": "view-in-github",
        "colab_type": "text"
      },
      "source": [
        "<a href=\"https://colab.research.google.com/github/amarie-51/projekt_NLP/blob/main/task1_hate.ipynb\" target=\"_parent\"><img src=\"https://colab.research.google.com/assets/colab-badge.svg\" alt=\"Open In Colab\"/></a>"
      ]
    },
    {
      "cell_type": "code",
      "metadata": {
        "id": "GGCATKcwt6lZ"
      },
      "source": [
        "import pandas as pd\n",
        "\n",
        "import nltk\n"
      ],
      "execution_count": 28,
      "outputs": []
    },
    {
      "cell_type": "markdown",
      "metadata": {
        "id": "fzxSlBF9wI1H"
      },
      "source": [
        "Tworzymy dataframe z treścią tweeta oraz oceną czy jest hejtem"
      ]
    },
    {
      "cell_type": "code",
      "metadata": {
        "id": "NGCJVpBYtUmS"
      },
      "source": [
        "tags_poprawne=pd.read_csv('/test_set_clean_only_tags.txt', header = None)\n",
        "tweets=open('/test_set_clean_only_text.txt')\n",
        "table_of_tweets=[]\n",
        "for line in tweets.readlines():\n",
        "  table_of_tweets.append(line)\n",
        "\n"
      ],
      "execution_count": 29,
      "outputs": []
    },
    {
      "cell_type": "code",
      "metadata": {
        "colab": {
          "base_uri": "https://localhost:8080/"
        },
        "id": "derscyyHt6BO",
        "outputId": "d0b524e9-5da6-42fd-8f39-10fa6f870c27"
      },
      "source": [
        "tags_poprawne.columns=[\"Czy hate\"]\n",
        "print(tags_poprawne.head)"
      ],
      "execution_count": 30,
      "outputs": [
        {
          "output_type": "stream",
          "text": [
            "<bound method NDFrame.head of      Czy hate\n",
            "0           0\n",
            "1           0\n",
            "2           0\n",
            "3           0\n",
            "4           0\n",
            "..        ...\n",
            "995         0\n",
            "996         0\n",
            "997         0\n",
            "998         1\n",
            "999         0\n",
            "\n",
            "[1000 rows x 1 columns]>\n"
          ],
          "name": "stdout"
        }
      ]
    },
    {
      "cell_type": "code",
      "metadata": {
        "colab": {
          "base_uri": "https://localhost:8080/"
        },
        "id": "xBkFEUtWufn5",
        "outputId": "ea69f1c2-e008-48d8-d84d-a90608286189"
      },
      "source": [
        "tweets=pd.DataFrame(table_of_tweets)\n",
        "tweets.columns=[\"Tweet\"]\n",
        "print(tweets.head)"
      ],
      "execution_count": 31,
      "outputs": [
        {
          "output_type": "stream",
          "text": [
            "<bound method NDFrame.head of                                                  Tweet\n",
            "0    @anonymized_account Spoko, jak im Duda z Moraw...\n",
            "1    @anonymized_account @anonymized_account Ale on...\n",
            "2    @anonymized_account No czy Prezes nie miał rac...\n",
            "3    @anonymized_account @anonymized_account Przeci...\n",
            "4    @anonymized_account @anonymized_account Owszem...\n",
            "..                                                 ...\n",
            "995  @anonymized_account Olej jak kto sie ubiera, p...\n",
            "996  @anonymized_account to oczywiste byłyście dziś...\n",
            "997  @anonymized_account Duda może się przyjąć w bi...\n",
            "998  @anonymized_account Ty jesteś jebnięty, tła ta...\n",
            "999  @anonymized_account @anonymized_account Ale to...\n",
            "\n",
            "[1000 rows x 1 columns]>\n"
          ],
          "name": "stdout"
        }
      ]
    },
    {
      "cell_type": "code",
      "metadata": {
        "colab": {
          "base_uri": "https://localhost:8080/"
        },
        "id": "vWYI41QSvvua",
        "outputId": "fc17b0cb-67f0-42b1-d8cd-26a877ab25e8"
      },
      "source": [
        "df_tweets=pd.concat([tweets,tags_poprawne],axis=1)\n",
        "print(df_tweets.head)"
      ],
      "execution_count": 32,
      "outputs": [
        {
          "output_type": "stream",
          "text": [
            "<bound method NDFrame.head of                                                  Tweet  Czy hate\n",
            "0    @anonymized_account Spoko, jak im Duda z Moraw...         0\n",
            "1    @anonymized_account @anonymized_account Ale on...         0\n",
            "2    @anonymized_account No czy Prezes nie miał rac...         0\n",
            "3    @anonymized_account @anonymized_account Przeci...         0\n",
            "4    @anonymized_account @anonymized_account Owszem...         0\n",
            "..                                                 ...       ...\n",
            "995  @anonymized_account Olej jak kto sie ubiera, p...         0\n",
            "996  @anonymized_account to oczywiste byłyście dziś...         0\n",
            "997  @anonymized_account Duda może się przyjąć w bi...         0\n",
            "998  @anonymized_account Ty jesteś jebnięty, tła ta...         1\n",
            "999  @anonymized_account @anonymized_account Ale to...         0\n",
            "\n",
            "[1000 rows x 2 columns]>\n"
          ],
          "name": "stdout"
        }
      ]
    },
    {
      "cell_type": "code",
      "metadata": {
        "colab": {
          "base_uri": "https://localhost:8080/"
        },
        "id": "3gSytEux2kj0",
        "outputId": "cbcfe5cc-9cb6-4b98-e552-61bdae26d40e"
      },
      "source": [
        "df_tweets.loc[:,\"Tweet\"] = df_tweets.Tweet.apply(lambda x : str.lower(x))\n",
        "\n",
        "print(df_tweets.head)"
      ],
      "execution_count": 33,
      "outputs": [
        {
          "output_type": "stream",
          "text": [
            "<bound method NDFrame.head of                                                  Tweet  Czy hate\n",
            "0    @anonymized_account spoko, jak im duda z moraw...         0\n",
            "1    @anonymized_account @anonymized_account ale on...         0\n",
            "2    @anonymized_account no czy prezes nie miał rac...         0\n",
            "3    @anonymized_account @anonymized_account przeci...         0\n",
            "4    @anonymized_account @anonymized_account owszem...         0\n",
            "..                                                 ...       ...\n",
            "995  @anonymized_account olej jak kto sie ubiera, p...         0\n",
            "996  @anonymized_account to oczywiste byłyście dziś...         0\n",
            "997  @anonymized_account duda może się przyjąć w bi...         0\n",
            "998  @anonymized_account ty jesteś jebnięty, tła ta...         1\n",
            "999  @anonymized_account @anonymized_account ale to...         0\n",
            "\n",
            "[1000 rows x 2 columns]>\n"
          ],
          "name": "stdout"
        }
      ]
    },
    {
      "cell_type": "code",
      "metadata": {
        "colab": {
          "base_uri": "https://localhost:8080/"
        },
        "id": "ekW28gbc3EsA",
        "outputId": "a88a8e36-b5d9-43c4-a262-206ad4b58101"
      },
      "source": [
        "import re\n",
        "df_tweets.loc[:,\"Tweet\"] = df_tweets.Tweet.apply(lambda x : \" \".join(re.findall('[\\w]+',x)))\n",
        "print(df_tweets.head)"
      ],
      "execution_count": 34,
      "outputs": [
        {
          "output_type": "stream",
          "text": [
            "<bound method NDFrame.head of                                                  Tweet  Czy hate\n",
            "0    anonymized_account spoko jak im duda z morawie...         0\n",
            "1    anonymized_account anonymized_account ale on t...         0\n",
            "2    anonymized_account no czy prezes nie miał racj...         0\n",
            "3    anonymized_account anonymized_account przecież...         0\n",
            "4    anonymized_account anonymized_account owszem p...         0\n",
            "..                                                 ...       ...\n",
            "995  anonymized_account olej jak kto sie ubiera pat...         0\n",
            "996  anonymized_account to oczywiste byłyście dziś ...         0\n",
            "997  anonymized_account duda może się przyjąć w bia...         0\n",
            "998  anonymized_account ty jesteś jebnięty tła taki...         1\n",
            "999  anonymized_account anonymized_account ale to n...         0\n",
            "\n",
            "[1000 rows x 2 columns]>\n"
          ],
          "name": "stdout"
        }
      ]
    },
    {
      "cell_type": "code",
      "metadata": {
        "colab": {
          "base_uri": "https://localhost:8080/"
        },
        "id": "LxOB1TTY3UO8",
        "outputId": "dd7ea97f-2cc2-4eb8-d3aa-aa67d764cd7f"
      },
      "source": [
        "\n",
        "stop_words = ('anonymized_account')\n",
        "\n",
        "def remove_stopWords(s):\n",
        "    '''For removing stop words\n",
        "    '''\n",
        "    s = ' '.join(word for word in s.split() if word not in stop_words)\n",
        "    return s\n",
        "\n",
        "C.loc[:,\"Tweet\"] = df_tweets.Tweet.apply(lambda x: remove_stopWords(x))\n",
        "print(df_tweets.head)"
      ],
      "execution_count": 38,
      "outputs": [
        {
          "output_type": "stream",
          "text": [
            "<bound method NDFrame.head of                                                  Tweet  Czy hate\n",
            "0    spoko jak im duda morawieckim zamówią po pięć ...         0\n",
            "1    ale tu nie miał szans jej zagrania ta proba to...         0\n",
            "2    czy prezes nie miał racji mówiąc to są zdradzi...         0\n",
            "3                przecież to nawet nie jest przewrotka         0\n",
            "4    owszem podatki tak ale nie w takich okolicznoś...         0\n",
            "..                                                 ...       ...\n",
            "995  olej jak kto sie ubiera patrz na statystyki ko...         0\n",
            "996  to oczywiste byłyście dziś zajebiste może opró...         0\n",
            "997  duda może się przyjąć w białym domku takim ser...         0\n",
            "998  ty jesteś jebnięty tła takiego parcha mam jech...         1\n",
            "999                     ale to nie tych ci są normalni         0\n",
            "\n",
            "[1000 rows x 2 columns]>\n"
          ],
          "name": "stdout"
        }
      ]
    }
  ]
}