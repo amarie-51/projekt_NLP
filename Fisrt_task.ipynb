{
  "nbformat": 4,
  "nbformat_minor": 0,
  "metadata": {
    "colab": {
      "name": "Fisrt_task",
      "provenance": [],
      "collapsed_sections": [],
      "authorship_tag": "ABX9TyOdoQCY0VFgihf33mmPf2sy",
      "include_colab_link": true
    },
    "kernelspec": {
      "name": "python3",
      "display_name": "Python 3"
    },
    "language_info": {
      "name": "python"
    }
  },
  "cells": [
    {
      "cell_type": "markdown",
      "metadata": {
        "id": "view-in-github",
        "colab_type": "text"
      },
      "source": [
        "<a href=\"https://colab.research.google.com/github/amarie-51/projekt_NLP/blob/main/Fisrt_task.ipynb\" target=\"_parent\"><img src=\"https://colab.research.google.com/assets/colab-badge.svg\" alt=\"Open In Colab\"/></a>"
      ]
    },
    {
      "cell_type": "code",
      "metadata": {
        "id": "hWRfCHPff5q5"
      },
      "source": [
        "import tensorflow as tf\n",
        "import matplotlib.pyplot as plt\n",
        "from tensorflow import keras"
      ],
      "execution_count": null,
      "outputs": []
    },
    {
      "cell_type": "code",
      "metadata": {
        "id": "Q20amsLwl7Al"
      },
      "source": [
        "(x_train, y_train), (x_test, y_test) = keras.datasets.mnist.load_data()"
      ],
      "execution_count": null,
      "outputs": []
    },
    {
      "cell_type": "code",
      "metadata": {
        "colab": {
          "base_uri": "https://localhost:8080/"
        },
        "id": "02EdzI68ma7l",
        "outputId": "51e37452-90d6-49fc-ccbe-1a2c4589f973"
      },
      "source": [
        "print(x_train.shape)\n",
        "print(x_test.shape)\n"
      ],
      "execution_count": null,
      "outputs": [
        {
          "output_type": "stream",
          "name": "stdout",
          "text": [
            "(60000, 28, 28)\n",
            "(10000, 28, 28)\n"
          ]
        }
      ]
    },
    {
      "cell_type": "code",
      "metadata": {
        "id": "6LASf76OmqSm"
      },
      "source": [
        "import numpy as np\n"
      ],
      "execution_count": null,
      "outputs": []
    },
    {
      "cell_type": "markdown",
      "metadata": {
        "id": "_MgQw9Rlocgk"
      },
      "source": [
        "flattening the two spatial dimensions"
      ]
    },
    {
      "cell_type": "code",
      "metadata": {
        "colab": {
          "base_uri": "https://localhost:8080/"
        },
        "id": "VvLAyf0xm6O1",
        "outputId": "eba01787-bfad-4303-fff1-a02f6e8e3383"
      },
      "source": [
        "x_train = np.reshape(x_train, (60000,784))\n",
        "x_test = np.reshape(x_test, (10000,784))\n",
        "print(x_train.shape,x_test.shape)"
      ],
      "execution_count": null,
      "outputs": [
        {
          "output_type": "stream",
          "name": "stdout",
          "text": [
            "(60000, 784) (10000, 784)\n"
          ]
        }
      ]
    },
    {
      "cell_type": "code",
      "metadata": {
        "colab": {
          "base_uri": "https://localhost:8080/"
        },
        "id": "OunHgeSqo3Cc",
        "outputId": "4b1cf0fa-3d8d-4d9c-e7b4-833235d37da6"
      },
      "source": [
        "x_train=(x_train/255)\n",
        "x_test=(x_test/255)\n",
        "print(x_train.shape,x_test.shape)"
      ],
      "execution_count": null,
      "outputs": [
        {
          "output_type": "stream",
          "name": "stdout",
          "text": [
            "(60000, 784) (10000, 784)\n"
          ]
        }
      ]
    },
    {
      "cell_type": "code",
      "metadata": {
        "id": "ykoqNtEYocA9"
      },
      "source": [
        "y_train=keras.utils.to_categorical(y_train, 10)\n",
        "y_test=keras.utils.to_categorical(y_test, 10)\n"
      ],
      "execution_count": null,
      "outputs": []
    },
    {
      "cell_type": "markdown",
      "metadata": {
        "id": "jl5fEfBJ2H3Q"
      },
      "source": [
        "Creating a model"
      ]
    },
    {
      "cell_type": "code",
      "metadata": {
        "colab": {
          "base_uri": "https://localhost:8080/"
        },
        "id": "G0wMfz_HqP_V",
        "outputId": "53f549af-a956-46f7-c782-3a54d4ba5254"
      },
      "source": [
        "keras.Sequential()"
      ],
      "execution_count": null,
      "outputs": [
        {
          "output_type": "execute_result",
          "data": {
            "text/plain": [
              "<keras.engine.sequential.Sequential at 0x7fe218e91350>"
            ]
          },
          "metadata": {},
          "execution_count": 22
        }
      ]
    },
    {
      "cell_type": "code",
      "metadata": {
        "colab": {
          "base_uri": "https://localhost:8080/"
        },
        "id": "MvkNlK_2zIK2",
        "outputId": "c7316199-79bd-4cd3-d89e-fb75341e1d84"
      },
      "source": [
        "model = keras.Sequential()\n",
        "model.add(keras.layers.Dense(256, input_shape=(784,)))\n",
        "model.add(keras.layers.Dense(10, activation='softmax'))\n",
        "model.summary()"
      ],
      "execution_count": null,
      "outputs": [
        {
          "output_type": "stream",
          "name": "stdout",
          "text": [
            "Model: \"sequential_4\"\n",
            "_________________________________________________________________\n",
            "Layer (type)                 Output Shape              Param #   \n",
            "=================================================================\n",
            "dense_4 (Dense)              (None, 256)               200960    \n",
            "_________________________________________________________________\n",
            "dense_5 (Dense)              (None, 10)                2570      \n",
            "=================================================================\n",
            "Total params: 203,530\n",
            "Trainable params: 203,530\n",
            "Non-trainable params: 0\n",
            "_________________________________________________________________\n"
          ]
        }
      ]
    },
    {
      "cell_type": "code",
      "metadata": {
        "id": "SSXRw3ERzm7F"
      },
      "source": [
        "model.compile(loss='categorical_crossentropy', metrics='accuracy')"
      ],
      "execution_count": null,
      "outputs": []
    },
    {
      "cell_type": "code",
      "metadata": {
        "colab": {
          "base_uri": "https://localhost:8080/"
        },
        "id": "vvpvlYGuzyyf",
        "outputId": "50dd9c03-01a0-41cd-cf90-5ed78f30e4c0"
      },
      "source": [
        "history = model.fit(x_train, y_train, batch_size=128, epochs=12, verbose=1, validation_split=0.2)"
      ],
      "execution_count": null,
      "outputs": [
        {
          "output_type": "stream",
          "name": "stdout",
          "text": [
            "Epoch 1/12\n",
            "375/375 [==============================] - 3s 6ms/step - loss: 0.3966 - accuracy: 0.8868 - val_loss: 0.3109 - val_accuracy: 0.9156\n",
            "Epoch 2/12\n",
            "375/375 [==============================] - 2s 6ms/step - loss: 0.3069 - accuracy: 0.9139 - val_loss: 0.2799 - val_accuracy: 0.9212\n",
            "Epoch 3/12\n",
            "375/375 [==============================] - 2s 6ms/step - loss: 0.2947 - accuracy: 0.9175 - val_loss: 0.2799 - val_accuracy: 0.9233\n",
            "Epoch 4/12\n",
            "375/375 [==============================] - 2s 6ms/step - loss: 0.2873 - accuracy: 0.9196 - val_loss: 0.2852 - val_accuracy: 0.9223\n",
            "Epoch 5/12\n",
            "375/375 [==============================] - 2s 6ms/step - loss: 0.2817 - accuracy: 0.9218 - val_loss: 0.2861 - val_accuracy: 0.9214\n",
            "Epoch 6/12\n",
            "375/375 [==============================] - 2s 6ms/step - loss: 0.2777 - accuracy: 0.9215 - val_loss: 0.2853 - val_accuracy: 0.9231\n",
            "Epoch 7/12\n",
            "375/375 [==============================] - 2s 6ms/step - loss: 0.2745 - accuracy: 0.9234 - val_loss: 0.2823 - val_accuracy: 0.9240\n",
            "Epoch 8/12\n",
            "375/375 [==============================] - 2s 6ms/step - loss: 0.2724 - accuracy: 0.9230 - val_loss: 0.2814 - val_accuracy: 0.9229\n",
            "Epoch 9/12\n",
            "375/375 [==============================] - 2s 6ms/step - loss: 0.2692 - accuracy: 0.9244 - val_loss: 0.2832 - val_accuracy: 0.9243\n",
            "Epoch 10/12\n",
            "375/375 [==============================] - 2s 6ms/step - loss: 0.2667 - accuracy: 0.9258 - val_loss: 0.2887 - val_accuracy: 0.9227\n",
            "Epoch 11/12\n",
            "375/375 [==============================] - 2s 6ms/step - loss: 0.2667 - accuracy: 0.9262 - val_loss: 0.2790 - val_accuracy: 0.9250\n",
            "Epoch 12/12\n",
            "375/375 [==============================] - 2s 6ms/step - loss: 0.2634 - accuracy: 0.9268 - val_loss: 0.2724 - val_accuracy: 0.9287\n"
          ]
        }
      ]
    },
    {
      "cell_type": "code",
      "metadata": {
        "id": "St40gWpz1zgH"
      },
      "source": [
        "plt.style.use('ggplot')\n",
        "def plot_history(history):\n",
        "    acc = history.history['accuracy']\n",
        "    val_acc = history.history['val_accuracy']\n",
        "    loss = history.history['loss']\n",
        "    val_loss = history.history['val_loss']\n",
        "    x = range(1, len(acc) + 1)\n",
        "\n",
        "    plt.figure(figsize=(12, 5))\n",
        "    plt.subplot(1, 2, 1)\n",
        "    plt.plot(x, acc, 'b', label='Training accuracy')\n",
        "    plt.plot(x, val_acc, 'r', label='Validation accuracy')\n",
        "    plt.title('Training and validation accuracy')\n",
        "    plt.legend()\n",
        "    plt.subplot(1, 2, 2)\n",
        "    plt.plot(x, loss, 'b', label='Training loss')\n",
        "    plt.plot(x, val_loss, 'r', label='Validation loss')\n",
        "    plt.title('Training and validation loss')\n",
        "    plt.legend()"
      ],
      "execution_count": null,
      "outputs": []
    },
    {
      "cell_type": "code",
      "metadata": {
        "colab": {
          "base_uri": "https://localhost:8080/",
          "height": 337
        },
        "id": "leEGIDEM13En",
        "outputId": "d51f16e5-80ff-4da2-bde5-61cb00cf980b"
      },
      "source": [
        "plot_history(history)"
      ],
      "execution_count": null,
      "outputs": [
        {
          "output_type": "display_data",
          "data": {
            "image/png": "[encoded data removed]",
            "text/plain": [
              "<Figure size 864x360 with 2 Axes>"
            ]
          },
          "metadata": {}
        }
      ]
    },
    {
      "cell_type": "code",
      "metadata": {
        "colab": {
          "base_uri": "https://localhost:8080/"
        },
        "id": "oEuhbqBS2LOk",
        "outputId": "24402270-9720-447c-e59e-37082c612085"
      },
      "source": [
        "loss, accuracy = model.evaluate(x_test, y_test, verbose=0)\n",
        "print(loss, accuracy)"
      ],
      "execution_count": null,
      "outputs": [
        {
          "output_type": "stream",
          "name": "stdout",
          "text": [
            "0.07421593368053436 0.9797999858856201\n"
          ]
        }
      ]
    }
  ]
}